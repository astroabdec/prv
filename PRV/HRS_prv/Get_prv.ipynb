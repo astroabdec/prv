{
 "cells": [
  {
   "cell_type": "markdown",
   "id": "eb93a00f",
   "metadata": {},
   "source": [
    "# Extract RVs from FEROS HRS spectra\n",
    "\n"
   ]
  },
  {
   "cell_type": "code",
   "execution_count": 17,
   "id": "e71cdc60",
   "metadata": {
    "execution": {
     "iopub.execute_input": "2024-07-30T23:58:01.351065Z",
     "iopub.status.busy": "2024-07-30T23:58:01.350633Z",
     "iopub.status.idle": "2024-07-30T23:58:01.358474Z",
     "shell.execute_reply": "2024-07-30T23:58:01.357241Z",
     "shell.execute_reply.started": "2024-07-30T23:58:01.351036Z"
    }
   },
   "outputs": [],
   "source": [
    "from scipy import interpolate\n",
    "from scipy.optimize import curve_fit\n",
    "from numpy.polynomial.polynomial import polyval\n",
    "import importlib as impl\n",
    "import copy\n",
    "import math\n",
    "import glob, os\n",
    "from astropy.io import fits\n",
    "import astropy.units as u\n",
    "import fnmatch\n",
    "from astropy.modeling.polynomial import Chebyshev1D,Polynomial1D\n",
    "from astropy.table import Table\n",
    "import numpy as np\n",
    "from scipy.signal import savgol_filter\n",
    "from astropy.time import Time\n",
    "\n",
    "import matplotlib.pyplot as plt\n",
    "%matplotlib inline \n",
    "c = 2.99792458e8  # m/s"
   ]
  },
  {
   "cell_type": "code",
   "execution_count": 18,
   "id": "19368665",
   "metadata": {
    "execution": {
     "iopub.execute_input": "2024-07-30T23:58:01.716524Z",
     "iopub.status.busy": "2024-07-30T23:58:01.715777Z",
     "iopub.status.idle": "2024-07-30T23:58:01.730539Z",
     "shell.execute_reply": "2024-07-30T23:58:01.730078Z",
     "shell.execute_reply.started": "2024-07-30T23:58:01.716463Z"
    }
   },
   "outputs": [],
   "source": [
    "# input reduced, wavelength calibrated (BC removed), normalized spectra\n",
    "\n",
    "target_name='HD 81797'\n",
    "odir = f'./feros/{target_name}/'\n",
    "ofiles = fnmatch.filter(os.listdir(odir),\"*.dat\")\n",
    "\n",
    "folder_name = os.path.basename(os.path.normpath(odir))\n",
    "save_file_name = folder_name + 'rv.npz'\n",
    "\n"
   ]
  },
  {
   "cell_type": "code",
   "execution_count": 19,
   "id": "896f3225",
   "metadata": {
    "execution": {
     "iopub.execute_input": "2024-07-30T23:58:02.527533Z",
     "iopub.status.busy": "2024-07-30T23:58:02.526844Z",
     "iopub.status.idle": "2024-07-30T23:58:05.312794Z",
     "shell.execute_reply": "2024-07-30T23:58:05.312499Z",
     "shell.execute_reply.started": "2024-07-30T23:58:02.527472Z"
    }
   },
   "outputs": [],
   "source": [
    "# List storing all spectra omat = nspec *[wavelength flux order]\n",
    "omat = []\n",
    "for file in ofiles:\n",
    "    otab = Table.read(odir+file,format='ascii')\n",
    "    omat.append(otab)\n",
    "#print(len(omat))"
   ]
  },
  {
   "cell_type": "code",
   "execution_count": 20,
   "id": "a4aef0cd",
   "metadata": {
    "execution": {
     "iopub.execute_input": "2024-07-30T23:58:05.313568Z",
     "iopub.status.busy": "2024-07-30T23:58:05.313487Z",
     "iopub.status.idle": "2024-07-30T23:58:05.321350Z",
     "shell.execute_reply": "2024-07-30T23:58:05.321160Z",
     "shell.execute_reply.started": "2024-07-30T23:58:05.313561Z"
    }
   },
   "outputs": [],
   "source": [
    "# function for extracting the spectra of all orders\n",
    "def get_ordspec(omat, order):\n",
    "    nspec = len(omat)\n",
    "    ordwav = []\n",
    "    ordspec = []\n",
    "    for i in range(nspec):\n",
    "        ordind = np.where(omat[i]['Order'] == order)[0]\n",
    "        thiswav = omat[i]['Wavelength'][ordind]\n",
    "        thisflux = omat[i]['Flux_normalized'][ordind]\n",
    "        ordwav.append(thiswav)\n",
    "        ordspec.append(thisflux)\n",
    "        \n",
    "    return ordwav, ordspec"
   ]
  },
  {
   "cell_type": "code",
   "execution_count": 21,
   "id": "62a99317-205a-4e11-8f23-5c0664020fe8",
   "metadata": {
    "execution": {
     "iopub.execute_input": "2024-07-30T23:58:05.322057Z",
     "iopub.status.busy": "2024-07-30T23:58:05.321715Z",
     "iopub.status.idle": "2024-07-30T23:58:05.326562Z",
     "shell.execute_reply": "2024-07-30T23:58:05.326349Z",
     "shell.execute_reply.started": "2024-07-30T23:58:05.322051Z"
    }
   },
   "outputs": [],
   "source": [
    "## function for stacking an order\n",
    "\"\"\"\n",
    "using one wavelength of one order to stack all spectra from different observes \n",
    "delw is set to 1/4 of the wavelength difference empirically\n",
    "##########\n",
    "\"\"\"\n",
    "padding = 5.0\n",
    "smooth_rv = 2e4  # smoothing window in m/s\n",
    "def stack_ord(ordwav, ordspec):\n",
    "    wav0 = np.min(ordwav) + padding # pad some angstroms\n",
    "    wav1 = np.max(ordwav) - padding\n",
    "    delw = np.abs(np.median(ordwav[0][0:-1]-ordwav[0][1:]))\n",
    "    delw /= 4.0 # over sample by a factor of 4\n",
    "    wavearr = np.arange(wav0,wav1,delw) ## new wavearr shape = 4* wavelength of the initial order\n",
    "    fluxmat = np.zeros((len(wavearr),len(ordwav)))\n",
    "    # loop through spectra\n",
    "    for i in range(len(ordwav)):\n",
    "        ord_interp = interpolate.interp1d(ordwav[i],ordspec[i],kind='linear')\n",
    "        ord_flux = ord_interp(wavearr)\n",
    "        fluxmat[:,i] = ord_flux\n",
    "    \n",
    "    fluxarr = np.mean(fluxmat,axis=1)\n",
    "            \n",
    "    sm_order = 1\n",
    "    sm_window = int(smooth_rv/c*np.median(wavearr)/delw)\n",
    "    sm_fluxarr = savgol_filter(fluxarr, sm_window, sm_order)\n",
    "    \n",
    "    return wavearr, fluxarr, sm_fluxarr, fluxmat"
   ]
  },
  {
   "cell_type": "code",
   "execution_count": 25,
   "id": "2d275e59",
   "metadata": {
    "execution": {
     "iopub.execute_input": "2024-07-30T23:59:23.383931Z",
     "iopub.status.busy": "2024-07-30T23:59:23.383075Z",
     "iopub.status.idle": "2024-07-30T23:59:23.395950Z",
     "shell.execute_reply": "2024-07-30T23:59:23.395392Z",
     "shell.execute_reply.started": "2024-07-30T23:59:23.383872Z"
    }
   },
   "outputs": [
    {
     "name": "stdout",
     "output_type": "stream",
     "text": [
      "6 6\n"
     ]
    }
   ],
   "source": [
    "ordwav,ordspec = get_ordspec(omat,10)  #ordwav is nspec * [wavelength] of order xx \n",
    "### note that if you use get_orders.py to cut the orders from FEROS orders should start by 5\n",
    "print(len(ordwav),len(ordspec))# 56 is an order with a big line\n",
    "wavearr,fluxarr,sm_fluxarr,fluxmat = stack_ord(ordwav,ordspec)"
   ]
  },
  {
   "cell_type": "code",
   "execution_count": 26,
   "id": "629f377b",
   "metadata": {
    "execution": {
     "iopub.execute_input": "2024-07-30T23:59:24.550355Z",
     "iopub.status.busy": "2024-07-30T23:59:24.549469Z",
     "iopub.status.idle": "2024-07-30T23:59:24.687487Z",
     "shell.execute_reply": "2024-07-30T23:59:24.686886Z",
     "shell.execute_reply.started": "2024-07-30T23:59:24.550310Z"
    }
   },
   "outputs": [
    {
     "data": {
      "text/plain": [
       "[<matplotlib.lines.Line2D at 0x30beba390>]"
      ]
     },
     "execution_count": 26,
     "metadata": {},
     "output_type": "execute_result"
    },
    {
     "data": {
      "image/png": "[encoded data removed]",
      "text/plain": [
       "<Figure size 640x480 with 1 Axes>"
      ]
     },
     "metadata": {},
     "output_type": "display_data"
    }
   ],
   "source": [
    "for i in range(len(ordwav)):\n",
    "    plt.plot(ordwav[i],ordspec[i],alpha=0.2)\n",
    "#plt.plot(wavearr,np.median(fluxmat,axis=1)) # bad\n",
    "plt.plot(wavearr,fluxarr)\n",
    "#plt.plot(wavearr,sm_fluxarr)\n",
    "#plt.xlim((5160,5180))\n",
    "#plt.ylim((0.8,1.05))"
   ]
  },
  {
   "cell_type": "code",
   "execution_count": 27,
   "id": "5686da40",
   "metadata": {
    "execution": {
     "iopub.execute_input": "2024-07-30T23:59:31.426234Z",
     "iopub.status.busy": "2024-07-30T23:59:31.425854Z",
     "iopub.status.idle": "2024-07-30T23:59:31.436575Z",
     "shell.execute_reply": "2024-07-30T23:59:31.435928Z",
     "shell.execute_reply.started": "2024-07-30T23:59:31.426216Z"
    }
   },
   "outputs": [],
   "source": [
    "# basic CCF\n",
    "def interp_min(vgrid, corrvalue):\n",
    "    # use interpolation to get the min of CCF (plot the RV CCF plot)\n",
    "    # returns just the RV\n",
    "    corr_interp = interpolate.splrep(vgrid, corrvalue, s=0)\n",
    "    vgrid1side = np.linspace(1, 3e4, num=30000)  # many times more than original\n",
    "    # vgrid1side - starting small to avoid digitization for early chunks at 1 cm/s level\n",
    "    vgrid_rs = np.concatenate((np.flipud(vgrid1side) * (-1.0), np.zeros(1), vgrid1side)) #Flip vgrid1side then join it with zero and the original vgrid1side to form a symmetric velocity grid vgrid_rs\n",
    "    corrvalue_rs = interpolate.splev(vgrid_rs, corr_interp, der=0)\n",
    "    minarg = np.argmin(corrvalue_rs)\n",
    "\n",
    "    return vgrid_rs[minarg]\n",
    "\n",
    "def ccf_basic(obs, model, weight=False, tplmask=False):\n",
    "    # for a chunk of spectrum, returns RV from cross correlation\n",
    "    # the most basic version - no dividing out tellurics\n",
    "    # assuming obs and model on different wavelength grids\n",
    "    #vgrid1side = np.logspace(-1, np.log10(3e4), num=100)  # Very precise! All at 0 cm/s for validate_ccf.py\n",
    "    vgrid1side = np.linspace(1, 3e4, num=3000)  # customized for SPIRou data\n",
    "    vgrid = np.concatenate((np.flipud(vgrid1side) * (-1.0), np.zeros(1), vgrid1side))\n",
    "    #vgrid = np.linspace(-8000, 8000, num=2001) + bc  # in m/s\n",
    "    corrvalue = np.zeros(len(vgrid))\n",
    "    syn_interp = interpolate.interp1d(model['wave'], model['flux'], kind='cubic')  # keep cubic throughout\n",
    "\n",
    "    # if having a preserved mask from template making, then mask out bad template pixels as well\n",
    "    if tplmask:\n",
    "        mask_interp = interpolate.interp1d(model['wave'], model['mask']*1.0, kind='linear')\n",
    "    \n",
    "    padding = 1  # chop off edge, just 50 pixels on each side; remember already hundreds of pixels were chopped off\n",
    "    \n",
    "    # determine wavelength range to use, customized for SPIRou orders\n",
    "    minwave = np.max([np.nanmin(obs['wave']), np.nanmin(model['wave'])])\n",
    "    maxwave = np.min([np.nanmax(obs['wave']), np.nanmax(model['wave'])])\n",
    "    wuse = np.where((obs['wave'] < (maxwave - padding)) & (obs['wave'] >= (minwave + padding)))[0]\n",
    "\n",
    "    for i, rv in enumerate(vgrid):\n",
    "        # not convolving the model spectrum\n",
    "        # I'm guessing convolving it with the perfectly known PSF will produce a more precise result (narrower CCF)\n",
    "        # But the Baranne paper does not convolve their stellar mask, obviously\n",
    "        mwaveshift = obs['wave'][wuse] / (1.0 + rv / c) #symbol only effect rv's symbol\n",
    "        mspecshift = syn_interp(mwaveshift)\n",
    "        if tplmask:\n",
    "                mask_ind = np.where(mask_interp(mwaveshift) > 0.5)[0]  # again, 1 is bad, set threshold at 0.5, the same as mktpl530.py\n",
    "                mspecshift[mask_ind] = np.NaN  # set to NaN, equivalent of 0 weight in CCF\n",
    "        if weight:\n",
    "            thiswt = obs['ivar'][wuse] # can't calculate ivar because FEROS has no flux errors\n",
    "            if tplmask:\n",
    "                thiswt[mask_ind] = 0.0  # need to adjust the weight!\n",
    "            corrvalue[i] = np.nansum((mspecshift - obs['flux'][wuse]) ** 2 * thiswt)/np.nansum(thiswt)\n",
    "        else:\n",
    "            corrvalue[i] = np.nansum((mspecshift - obs['flux'][wuse]) ** 2)\n",
    "        # value of cross correlation, Eqn. 8 of Baranne el al. 1996\n",
    "        # Actually, must use (a-b)**2 instead of a*b, because the model spectrum does shift in and out\n",
    "        # of the observed spectrum wavelength window!! SXW Oct 2018\n",
    "\n",
    "    best_rv = interp_min(vgrid, corrvalue)\n",
    "\n",
    "    return best_rv, vgrid, corrvalue"
   ]
  },
  {
   "cell_type": "code",
   "execution_count": 28,
   "id": "bd53de90",
   "metadata": {
    "execution": {
     "iopub.execute_input": "2024-07-30T23:59:35.871193Z",
     "iopub.status.busy": "2024-07-30T23:59:35.870777Z",
     "iopub.status.idle": "2024-07-30T23:59:35.882011Z",
     "shell.execute_reply": "2024-07-30T23:59:35.881207Z",
     "shell.execute_reply.started": "2024-07-30T23:59:35.871165Z"
    }
   },
   "outputs": [],
   "source": [
    "# build the obs and model objects needed to feed CCF\n",
    "\n",
    "# which spectral file to use?\n",
    "cut_edge = padding+1.0 # cut 1 angstrom more compared to the model\n",
    "def build_obs(ordwav,ordspec,ifile):\n",
    "    thiswave = ordwav[ifile] ##use num ifile's selected order \n",
    "    w0 = np.min(thiswave) + cut_edge\n",
    "    w1 = np.max(thiswave) - cut_edge\n",
    "    use_ind = np.where((thiswave > w0) & (thiswave < w1))[0]\n",
    "    obs = np.zeros(len(use_ind),dtype={'names': ('wave', 'flux'), 'formats': ('f8', 'f8')})\n",
    "    obs['wave'] = thiswave[use_ind]\n",
    "    obs['flux'] = ordspec[ifile][use_ind]\n",
    "    \n",
    "    return obs\n",
    "\n",
    "# fluxarr can be the smoothed or the original mean flux\n",
    "def build_mod(wavearr,fluxarr):\n",
    "    mod = np.zeros(len(wavearr),dtype={'names': ('wave', 'flux'), 'formats': ('f8', 'f8')})\n",
    "    mod['wave'] = wavearr\n",
    "    mod['flux'] = fluxarr\n",
    "    \n",
    "    return mod"
   ]
  },
  {
   "cell_type": "code",
   "execution_count": 29,
   "id": "4eadc9eb",
   "metadata": {
    "execution": {
     "iopub.execute_input": "2024-07-30T23:59:46.869085Z",
     "iopub.status.busy": "2024-07-30T23:59:46.868681Z",
     "iopub.status.idle": "2024-07-30T23:59:46.876224Z",
     "shell.execute_reply": "2024-07-30T23:59:46.875780Z",
     "shell.execute_reply.started": "2024-07-30T23:59:46.869055Z"
    },
    "scrolled": true
   },
   "outputs": [],
   "source": [
    "ordwav,ordspec = get_ordspec(omat,10)\n",
    "#print(ordwav,ordspec,len(ordwav),len(ordspec))\n",
    "#print(wavearr)\n",
    "obs = build_obs(ordwav,ordspec,1)\n",
    "#print(obs)\n",
    "#print(len(obs))\n",
    "mod = build_mod(wavearr,fluxarr)\n"
   ]
  },
  {
   "cell_type": "code",
   "execution_count": 30,
   "id": "f2d3c9c6",
   "metadata": {
    "execution": {
     "iopub.execute_input": "2024-07-30T23:59:49.429778Z",
     "iopub.status.busy": "2024-07-30T23:59:49.429155Z",
     "iopub.status.idle": "2024-07-30T23:59:49.939477Z",
     "shell.execute_reply": "2024-07-30T23:59:49.939250Z",
     "shell.execute_reply.started": "2024-07-30T23:59:49.429727Z"
    }
   },
   "outputs": [],
   "source": [
    "best_rv,vgrid,corrvalue = ccf_basic(obs,mod)"
   ]
  },
  {
   "cell_type": "code",
   "execution_count": 31,
   "id": "37f2fe97",
   "metadata": {
    "execution": {
     "iopub.execute_input": "2024-07-30T23:59:50.549523Z",
     "iopub.status.busy": "2024-07-30T23:59:50.549052Z",
     "iopub.status.idle": "2024-07-30T23:59:50.623742Z",
     "shell.execute_reply": "2024-07-30T23:59:50.622993Z",
     "shell.execute_reply.started": "2024-07-30T23:59:50.549485Z"
    }
   },
   "outputs": [
    {
     "name": "stdout",
     "output_type": "stream",
     "text": [
      "-59.0\n"
     ]
    },
    {
     "data": {
      "image/png": "[encoded data removed]",
      "text/plain": [
       "<Figure size 640x480 with 1 Axes>"
      ]
     },
     "metadata": {},
     "output_type": "display_data"
    }
   ],
   "source": [
    "plt.plot(vgrid,corrvalue,'.')\n",
    "#plt.xlim((-10000,10000))\n",
    "print(best_rv)"
   ]
  },
  {
   "cell_type": "code",
   "execution_count": 32,
   "id": "40ab883a",
   "metadata": {
    "execution": {
     "iopub.execute_input": "2024-07-30T23:59:58.655371Z",
     "iopub.status.busy": "2024-07-30T23:59:58.654357Z",
     "iopub.status.idle": "2024-07-30T23:59:58.664480Z",
     "shell.execute_reply": "2024-07-30T23:59:58.663900Z",
     "shell.execute_reply.started": "2024-07-30T23:59:58.655333Z"
    }
   },
   "outputs": [],
   "source": [
    "# Get the RV matrix for all orders and all spectra\n",
    "ordwav,ordspec = get_ordspec(omat,0)  # grab one first to see how many orders we have\n",
    "nord = np.unique(omat[i]['Order']).size\n",
    "nspec = len(ofiles)\n",
    "rvmat = np.zeros((nord, nspec))\n",
    "#print(nord,nspec,rvmat.shape)"
   ]
  },
  {
   "cell_type": "code",
   "execution_count": 33,
   "id": "5760e36c",
   "metadata": {
    "execution": {
     "iopub.execute_input": "2024-07-31T00:00:04.906675Z",
     "iopub.status.busy": "2024-07-31T00:00:04.906037Z",
     "iopub.status.idle": "2024-07-31T00:01:12.409845Z",
     "shell.execute_reply": "2024-07-31T00:01:12.409379Z",
     "shell.execute_reply.started": "2024-07-31T00:00:04.906627Z"
    },
    "scrolled": true
   },
   "outputs": [
    {
     "name": "stdout",
     "output_type": "stream",
     "text": [
      "0 0 -220.0\n",
      "0 1 -315.0\n",
      "0 2 42.0\n",
      "0 3 -577.0\n",
      "0 4 145.0\n",
      "0 5 -84.0\n",
      "1 0 -30.0\n",
      "1 1 -75.0\n",
      "1 2 6.0\n",
      "1 3 -363.0\n",
      "1 4 252.0\n",
      "1 5 -20.0\n",
      "2 0 -8.0\n",
      "2 1 -63.0\n",
      "2 2 63.0\n",
      "2 3 -264.0\n",
      "2 4 224.0\n",
      "2 5 -9.0\n",
      "3 0 -25.0\n",
      "3 1 -57.0\n",
      "3 2 66.0\n",
      "3 3 -226.0\n",
      "3 4 246.0\n",
      "3 5 12.0\n",
      "4 0 -41.0\n",
      "4 1 -55.0\n",
      "4 2 61.0\n",
      "4 3 -207.0\n",
      "4 4 260.0\n",
      "4 5 10.0\n",
      "5 0 -53.0\n",
      "5 1 -59.0\n",
      "5 2 67.0\n",
      "5 3 -200.0\n",
      "5 4 274.0\n",
      "5 5 12.0\n",
      "6 0 -54.0\n",
      "6 1 -55.0\n",
      "6 2 64.0\n",
      "6 3 -197.0\n",
      "6 4 264.0\n",
      "6 5 18.0\n",
      "7 0 -64.0\n",
      "7 1 -59.0\n",
      "7 2 71.0\n",
      "7 3 -197.0\n",
      "7 4 280.0\n",
      "7 5 19.0\n",
      "8 0 -72.0\n",
      "8 1 -56.0\n",
      "8 2 70.0\n",
      "8 3 -220.0\n",
      "8 4 307.0\n",
      "8 5 20.0\n",
      "9 0 -79.0\n",
      "9 1 -49.0\n",
      "9 2 70.0\n",
      "9 3 -211.0\n",
      "9 4 312.0\n",
      "9 5 16.0\n",
      "10 0 -92.0\n",
      "10 1 -55.0\n",
      "10 2 76.0\n",
      "10 3 -212.0\n",
      "10 4 328.0\n",
      "10 5 10.0\n",
      "11 0 -102.0\n",
      "11 1 -61.0\n",
      "11 2 87.0\n",
      "11 3 -214.0\n",
      "11 4 349.0\n",
      "11 5 4.0\n",
      "12 0 -91.0\n",
      "12 1 -57.0\n",
      "12 2 80.0\n",
      "12 3 -219.0\n",
      "12 4 340.0\n",
      "12 5 8.0\n",
      "13 0 -104.0\n",
      "13 1 -59.0\n",
      "13 2 85.0\n",
      "13 3 -218.0\n",
      "13 4 342.0\n",
      "13 5 5.0\n",
      "14 0 -114.0\n",
      "14 1 -62.0\n",
      "14 2 89.0\n",
      "14 3 -210.0\n",
      "14 4 334.0\n",
      "14 5 13.0\n",
      "15 0 -112.0\n",
      "15 1 -51.0\n",
      "15 2 83.0\n",
      "15 3 -209.0\n",
      "15 4 340.0\n",
      "15 5 -1.0\n",
      "16 0 -121.0\n",
      "16 1 -47.0\n",
      "16 2 77.0\n",
      "16 3 -197.0\n",
      "16 4 333.0\n",
      "16 5 0.0\n",
      "17 0 -100.0\n",
      "17 1 -56.0\n",
      "17 2 81.0\n",
      "17 3 -196.0\n",
      "17 4 317.0\n",
      "17 5 -10.0\n",
      "18 0 -115.0\n",
      "18 1 -32.0\n",
      "18 2 73.0\n",
      "18 3 -190.0\n",
      "18 4 329.0\n",
      "18 5 -27.0\n",
      "19 0 -102.0\n",
      "19 1 -37.0\n",
      "19 2 68.0\n",
      "19 3 -172.0\n",
      "19 4 315.0\n",
      "19 5 -31.0\n",
      "20 0 -108.0\n",
      "20 1 -26.0\n",
      "20 2 57.0\n",
      "20 3 -155.0\n",
      "20 4 310.0\n",
      "20 5 -36.0\n",
      "21 0 -100.0\n",
      "21 1 -32.0\n",
      "21 2 60.0\n",
      "21 3 -163.0\n",
      "21 4 265.0\n",
      "21 5 12.0\n",
      "22 0 -100.0\n",
      "22 1 -31.0\n",
      "22 2 51.0\n",
      "22 3 -144.0\n",
      "22 4 306.0\n",
      "22 5 -52.0\n"
     ]
    }
   ],
   "source": [
    "tplwave = []\n",
    "tplflux = []\n",
    "tplsmf = []\n",
    "for i in range(nord): ## to get the rv matrix\n",
    "\n",
    "    ordwav,ordspec = get_ordspec(omat,i+5) ##i+5 because order start from 5 after cutting from get_orders.py this step gets all orders\n",
    "    #print(ordwav,ordspec,len(ordwav),len(ordspec))\n",
    "    # build and save the template\n",
    "    wavearr,fluxarr,sm_fluxarr,fluxmat = stack_ord(ordwav,ordspec)\n",
    "    tplwave.append(wavearr)\n",
    "    tplflux.append(fluxarr)\n",
    "    tplsmf.append(sm_fluxarr)\n",
    "    for j in range(nspec): # i+5th order j date\n",
    "        obs = build_obs(ordwav,ordspec,j)\n",
    "        mod = build_mod(wavearr,fluxarr)\n",
    "        best_rv,vgrid,corrvalue = ccf_basic(obs,mod)\n",
    "        rvmat[i,j] = best_rv\n",
    "        print(i,j,best_rv)"
   ]
  },
  {
   "cell_type": "code",
   "execution_count": 34,
   "id": "2d6c4969-8eee-4731-9b1b-32a02bed8681",
   "metadata": {
    "execution": {
     "iopub.execute_input": "2024-07-31T00:07:33.822974Z",
     "iopub.status.busy": "2024-07-31T00:07:33.821856Z",
     "iopub.status.idle": "2024-07-31T00:07:33.831444Z",
     "shell.execute_reply": "2024-07-31T00:07:33.830764Z",
     "shell.execute_reply.started": "2024-07-31T00:07:33.822914Z"
    }
   },
   "outputs": [
    {
     "name": "stdout",
     "output_type": "stream",
     "text": [
      "-168.16666666666666\n",
      "[ -30.  -75.    6. -363.  252.  -20.]\n"
     ]
    }
   ],
   "source": [
    "np.median(rvmat,axis=1)\n",
    "#print(rvmat)\n",
    "print(np.mean(rvmat[0,:]))\n",
    "print(rvmat[1,:])"
   ]
  },
  {
   "cell_type": "code",
   "execution_count": 50,
   "id": "37a267d5",
   "metadata": {
    "execution": {
     "iopub.execute_input": "2024-07-31T00:08:41.359102Z",
     "iopub.status.busy": "2024-07-31T00:08:41.358411Z",
     "iopub.status.idle": "2024-07-31T00:08:41.375537Z",
     "shell.execute_reply": "2024-07-31T00:08:41.375015Z",
     "shell.execute_reply.started": "2024-07-31T00:08:41.359050Z"
    }
   },
   "outputs": [],
   "source": [
    "def vank(rvmat,simple=False,outlier=False):\n",
    "    # return weighted averaged RVs through a simple vanking with no outlier rejection\n",
    "\n",
    "    nords = np.shape(rvmat)[0]\n",
    "    nfiles = np.shape(rvmat)[1]\n",
    "\n",
    "    rvmat_old = copy.deepcopy(rvmat)  # well this did nothing; still modified rvmat\n",
    "    \n",
    "    # mean of each order across nights should be set to 0, all shift to 0\n",
    "    for iord in range(nords):\n",
    "        rvmat[iord,:] = rvmat[iord,:] - np.mean(rvmat[iord,:]) # \n",
    "    #print(rvmat)\n",
    "    # Next, variance of each order\n",
    "    rvmed = np.median(rvmat,axis=0)  # median RV of all chunks of each night\n",
    "    rvmarr = np.repeat(rvmed,nords)\n",
    "    rvmarr = np.transpose(np.reshape(rvmarr,(nfiles,nords)))\n",
    "\n",
    "    drv = np.abs(rvmat - rvmarr)  # Delta_ij in thesis equation 2.8\n",
    "    #print(drv)\n",
    "    if simple:\n",
    "        drv_median = np.median(drv, axis=1)\n",
    "        ord_wt = 1.0/drv_median**2\n",
    "        wrv = np.dot(np.transpose(rvmat),ord_wt)/np.sum(ord_wt)\n",
    "        rverr = np.std(rvmat,axis=0)/np.sqrt(nfiles)\n",
    "        wij = 0\n",
    "    elif outlier:\n",
    "        sigmai = np.std(drv,axis=1)  # weight of each chunk\n",
    "        print(sigmai)\n",
    "        # Outlier rejection based on sigmai\n",
    "        median_sigmai = np.median(sigmai)\n",
    "        mad_sigmai = np.median(np.abs(sigmai - median_sigmai))\n",
    "        lower_threshold = median_sigmai - 3 * mad_sigmai\n",
    "        upper_threshold = median_sigmai + 3 * mad_sigmai\n",
    "        #print(lower_threshold,upper_threshold)    \n",
    "        outlier_mask_sigmai = (sigmai < lower_threshold) | (sigmai > upper_threshold)\n",
    "        sigmai[outlier_mask_sigmai] = np.nan\n",
    "\n",
    "        \n",
    "        valid_orders = ~np.isnan(sigmai)\n",
    "        sigmai = sigmai[valid_orders] #remove outiler sigmai order\n",
    "        drv = drv[valid_orders, :]\n",
    "        rvmat = rvmat[valid_orders, :]\n",
    "        \n",
    "        sigmamat = np.repeat(sigmai,nfiles)\n",
    "        sigmamat = np.reshape(sigmamat,(len(sigmai),nfiles))\n",
    "        #sigmamat = np.reshape(sigmamat,(nords,nfiles))\n",
    "        #print(sigmamat)\n",
    "        rj = np.median(np.abs(drv)/sigmamat, axis=0)  # adjusted weight of each night\n",
    "        #print(sigmamat.shape)\n",
    "        wij = 1.0/(np.outer(sigmai,rj)**2)\n",
    "        #print(wij)\n",
    "        w1percent = np.percentile(wij,5.0)\n",
    "        low_wt_ind = np.where(wij <= w1percent)\n",
    "        wij[low_wt_ind] = np.nan\n",
    "        wrv = np.nansum(rvmat*wij,axis=0)/np.nansum(wij,axis=0)\n",
    "\n",
    "        rverr = 1.0/np.sqrt(np.nansum(wij,axis=0))\n",
    "    else:\n",
    "        sigmai = np.std(drv,axis=1)  # weight of each chunk\n",
    "        print(sigmai)\n",
    "\n",
    "        sigmamat = np.repeat(sigmai,nfiles)\n",
    "        sigmamat = np.reshape(sigmamat,(nords,nfiles))\n",
    "        #print(sigmamat)\n",
    "        rj = np.median(np.abs(drv)/sigmamat, axis=0)  # adjusted weight of each night\n",
    "        #print(sigmamat.shape)\n",
    "        wij = 1.0/(np.outer(sigmai,rj)**2)\n",
    "        #print(wij)\n",
    "        w1percent = np.percentile(wij,5.0)\n",
    "        low_wt_ind = np.where(wij <= w1percent)\n",
    "        wij[low_wt_ind] = np.nan\n",
    "        #                 # Additional outlier rejection based on MAD\n",
    "        # median_drv = np.median(drv)\n",
    "        # mad_drv = np.median(np.abs(drv - median_drv))\n",
    "        # threshold = 3 * mad_drv  # Using Median Absolute Deviation (MAD)\n",
    "\n",
    "        # outlier_mask = drv > threshold\n",
    "        # wij[outlier_mask] = np.nan\n",
    "        \n",
    "        wrv = np.nansum(rvmat*wij,axis=0)/np.nansum(wij,axis=0)\n",
    "\n",
    "        rverr = 1.0/np.sqrt(np.nansum(wij,axis=0))\n",
    "    \n",
    "    return wrv,rverr,wij,rvmat"
   ]
  },
  {
   "cell_type": "code",
   "execution_count": 54,
   "id": "7c512726-4044-413f-beaf-28330d944f39",
   "metadata": {
    "execution": {
     "iopub.execute_input": "2024-07-31T00:09:22.917884Z",
     "iopub.status.busy": "2024-07-31T00:09:22.917531Z",
     "iopub.status.idle": "2024-07-31T00:09:22.924580Z",
     "shell.execute_reply": "2024-07-31T00:09:22.924094Z",
     "shell.execute_reply.started": "2024-07-31T00:09:22.917860Z"
    }
   },
   "outputs": [
    {
     "name": "stdout",
     "output_type": "stream",
     "text": [
      "[59.83044458 42.71459981 37.49827157 29.61293511 22.51062849 15.58924922\n",
      " 16.97510887 11.20295376  6.46858505  3.90631018  5.32783281  9.70379206\n",
      "  8.67076114  8.41717087  8.28746637 10.10072727  8.39072828  5.27923956\n",
      "  8.95703048 15.13396964 18.98196025 17.73771528 25.51216122]\n"
     ]
    }
   ],
   "source": [
    "wrv,rverr,wij,rvmat = vank(rvmat,outlier=True)"
   ]
  },
  {
   "cell_type": "code",
   "execution_count": 55,
   "id": "3e30ac05-f052-4b97-b670-d3ad8b080867",
   "metadata": {
    "execution": {
     "iopub.execute_input": "2024-07-31T00:09:23.393830Z",
     "iopub.status.busy": "2024-07-31T00:09:23.393454Z",
     "iopub.status.idle": "2024-07-31T00:09:23.399865Z",
     "shell.execute_reply": "2024-07-31T00:09:23.399008Z",
     "shell.execute_reply.started": "2024-07-31T00:09:23.393802Z"
    }
   },
   "outputs": [
    {
     "name": "stdout",
     "output_type": "stream",
     "text": [
      "[-100.15666891  -60.71377849   67.07660235 -214.58070165  312.98370541\n",
      "   -2.69074903]\n",
      "[3.60245776 1.59907096 1.2862952  2.0618217  4.91845143 1.66178192]\n"
     ]
    }
   ],
   "source": [
    "print(wrv)\n",
    "print(rverr)"
   ]
  },
  {
   "cell_type": "code",
   "execution_count": 131,
   "id": "656fdf35",
   "metadata": {
    "execution": {
     "iopub.execute_input": "2024-07-22T06:50:41.341018Z",
     "iopub.status.busy": "2024-07-22T06:50:41.340346Z",
     "iopub.status.idle": "2024-07-22T06:50:41.349920Z",
     "shell.execute_reply": "2024-07-22T06:50:41.349208Z",
     "shell.execute_reply.started": "2024-07-22T06:50:41.340960Z"
    }
   },
   "outputs": [],
   "source": [
    "np.savez(save_file_name,wrv=wrv,rverr=rverr,wij=wij)"
   ]
  },
  {
   "cell_type": "code",
   "execution_count": 56,
   "id": "12548f88",
   "metadata": {
    "execution": {
     "iopub.execute_input": "2024-07-31T00:09:27.848682Z",
     "iopub.status.busy": "2024-07-31T00:09:27.848153Z",
     "iopub.status.idle": "2024-07-31T00:09:27.855907Z",
     "shell.execute_reply": "2024-07-31T00:09:27.855394Z",
     "shell.execute_reply.started": "2024-07-31T00:09:27.848639Z"
    }
   },
   "outputs": [
    {
     "name": "stdout",
     "output_type": "stream",
     "text": [
      "['r.FEROS.2006-05-16T00:37:52.771.3081.fits', 'r.FEROS.2007-03-05T07:07:14.812.3081.fits', 'r.FEROS.2010-02-27T04:06:55.145.3081.fits', 'r.FEROS.2005-04-03T05:26:30.602.3081.fits', 'r.FEROS.2005-11-14T08:58:16.850.3081.fits', 'r.FEROS.2007-01-21T09:08:47.052.3081.fits']\n"
     ]
    }
   ],
   "source": [
    "# let's get the JDs\n",
    "fitsdir = f'./barycorr/{target_name}/'\n",
    "fitsfiles = fnmatch.filter(os.listdir(fitsdir),\"*.fits\")\n",
    "\n",
    "#del fitsfiles[3]  # check the file names to get #49 out\n",
    "\n",
    "print(fitsfiles)"
   ]
  },
  {
   "cell_type": "code",
   "execution_count": 57,
   "id": "2613bdc7",
   "metadata": {
    "execution": {
     "iopub.execute_input": "2024-07-31T00:09:29.231341Z",
     "iopub.status.busy": "2024-07-31T00:09:29.230954Z",
     "iopub.status.idle": "2024-07-31T00:09:29.267572Z",
     "shell.execute_reply": "2024-07-31T00:09:29.267125Z",
     "shell.execute_reply.started": "2024-07-31T00:09:29.231316Z"
    },
    "scrolled": true
   },
   "outputs": [
    {
     "name": "stdout",
     "output_type": "stream",
     "text": [
      "[53871.02630522 54164.29669921 55254.17147158 53463.22674308\n",
      " 53688.37380616 54121.38110014]\n"
     ]
    }
   ],
   "source": [
    "jdarr = np.zeros(nspec)\n",
    "for i in range(nspec):\n",
    "    hdu = fits.open(fitsdir+fitsfiles[i])\n",
    "    header = hdu[0].header\n",
    "    #display(header['SNR'])\n",
    "    #ut_time = header['DATE-OBS']\n",
    "    # Create a Time object with the UT time and format\n",
    "    #time = Time(ut_time, format='isot', scale='utc')\n",
    "\n",
    "    # Convert to JD (Julian Date)\n",
    "    #jdarr[i] = time.jd\n",
    "    jdarr[i] = float(hdu[0].header['MJD-OBS'])\n",
    "    \n",
    "print(jdarr)"
   ]
  },
  {
   "cell_type": "code",
   "execution_count": 58,
   "id": "ceb81468",
   "metadata": {
    "execution": {
     "iopub.execute_input": "2024-07-31T00:09:30.442380Z",
     "iopub.status.busy": "2024-07-31T00:09:30.441883Z",
     "iopub.status.idle": "2024-07-31T00:09:30.447008Z",
     "shell.execute_reply": "2024-07-31T00:09:30.446298Z",
     "shell.execute_reply.started": "2024-07-31T00:09:30.442341Z"
    }
   },
   "outputs": [
    {
     "name": "stdout",
     "output_type": "stream",
     "text": [
      "['r.FEROS.2006-05-16T00:37:52.771.3081_all_orders.dat', 'r.FEROS.2005-11-14T08:58:16.850.3081_all_orders.dat', 'r.FEROS.2007-01-21T09:08:47.052.3081_all_orders.dat', 'r.FEROS.2010-02-27T04:06:55.145.3081_all_orders.dat', 'r.FEROS.2007-03-05T07:07:14.812.3081_all_orders.dat', 'r.FEROS.2005-04-03T05:26:30.602.3081_all_orders.dat']\n"
     ]
    }
   ],
   "source": [
    "print(ofiles)"
   ]
  },
  {
   "cell_type": "code",
   "execution_count": 59,
   "id": "31f9b68f-c546-4a22-bc38-7c46b283a372",
   "metadata": {
    "execution": {
     "iopub.execute_input": "2024-07-31T00:09:39.914628Z",
     "iopub.status.busy": "2024-07-31T00:09:39.914115Z",
     "iopub.status.idle": "2024-07-31T00:09:39.923767Z",
     "shell.execute_reply": "2024-07-31T00:09:39.923167Z",
     "shell.execute_reply.started": "2024-07-31T00:09:39.914595Z"
    }
   },
   "outputs": [
    {
     "name": "stdout",
     "output_type": "stream",
     "text": [
      "[2453871.52630522, 2454164.79669921, 2455254.67147158, 2453463.72674308, 2453688.87380616, 2454121.88110014]\n"
     ]
    }
   ],
   "source": [
    "from astropy.coordinates import EarthLocation\n",
    "#location = EarthLocation.of_site('La Silla')\n",
    "\n",
    "bmjd = []\n",
    "\n",
    "for mjd in jdarr:\n",
    "\n",
    "    time = Time(mjd, format='mjd', scale='tcb')\n",
    "    \n",
    "    bmjd.append(time.jd)\n",
    "print(bmjd)"
   ]
  },
  {
   "cell_type": "code",
   "execution_count": 60,
   "id": "d6773076",
   "metadata": {
    "execution": {
     "iopub.execute_input": "2024-07-31T00:09:43.168043Z",
     "iopub.status.busy": "2024-07-31T00:09:43.167395Z",
     "iopub.status.idle": "2024-07-31T00:09:43.176189Z",
     "shell.execute_reply": "2024-07-31T00:09:43.175768Z",
     "shell.execute_reply.started": "2024-07-31T00:09:43.167995Z"
    }
   },
   "outputs": [
    {
     "name": "stdout",
     "output_type": "stream",
     "text": [
      "[0 1 2 3 4 5] [0 1 2 3 4 5]\n"
     ]
    }
   ],
   "source": [
    "fileid = np.array([i for i in range(nspec)])\n",
    "#fileid = np.array([40,41,42,43,44,45])\n",
    "ind = np.argsort(fileid)\n",
    "print(fileid,ind)\n",
    "jdarr = np.sort(jdarr)\n",
    "rvarr = wrv[ind]\n",
    "errarr = rverr[ind]"
   ]
  },
  {
   "cell_type": "code",
   "execution_count": 61,
   "id": "56994e15",
   "metadata": {
    "execution": {
     "iopub.execute_input": "2024-07-31T00:09:43.921237Z",
     "iopub.status.busy": "2024-07-31T00:09:43.920835Z",
     "iopub.status.idle": "2024-07-31T00:09:43.925445Z",
     "shell.execute_reply": "2024-07-31T00:09:43.924667Z",
     "shell.execute_reply.started": "2024-07-31T00:09:43.921206Z"
    }
   },
   "outputs": [],
   "source": [
    "wijarr = wij[:,ind]"
   ]
  },
  {
   "cell_type": "code",
   "execution_count": 62,
   "id": "3add7527",
   "metadata": {
    "execution": {
     "iopub.execute_input": "2024-07-31T00:09:44.134647Z",
     "iopub.status.busy": "2024-07-31T00:09:44.134024Z",
     "iopub.status.idle": "2024-07-31T00:09:44.138804Z",
     "shell.execute_reply": "2024-07-31T00:09:44.138120Z",
     "shell.execute_reply.started": "2024-07-31T00:09:44.134597Z"
    }
   },
   "outputs": [],
   "source": [
    "rvmatrix = rvmat[:,ind]"
   ]
  },
  {
   "cell_type": "code",
   "execution_count": 63,
   "id": "9a78fe60",
   "metadata": {
    "execution": {
     "iopub.execute_input": "2024-07-31T00:09:46.505754Z",
     "iopub.status.busy": "2024-07-31T00:09:46.505122Z",
     "iopub.status.idle": "2024-07-31T00:09:46.510165Z",
     "shell.execute_reply": "2024-07-31T00:09:46.509264Z",
     "shell.execute_reply.started": "2024-07-31T00:09:46.505703Z"
    }
   },
   "outputs": [],
   "source": [
    "#np.savez('wasp189rv-sorted.npz',rvarr=rvarr,errarr=errarr,wijarr=wijarr,rvmatrix=rvmatrix,jdarr=jdarr)"
   ]
  },
  {
   "cell_type": "code",
   "execution_count": 64,
   "id": "a6dd5201",
   "metadata": {
    "execution": {
     "iopub.execute_input": "2024-07-31T00:09:46.748519Z",
     "iopub.status.busy": "2024-07-31T00:09:46.747789Z",
     "iopub.status.idle": "2024-07-31T00:09:46.755420Z",
     "shell.execute_reply": "2024-07-31T00:09:46.754645Z",
     "shell.execute_reply.started": "2024-07-31T00:09:46.748462Z"
    }
   },
   "outputs": [
    {
     "data": {
      "text/plain": [
       "array([-106.        ,  -61.66666667,   62.66666667, -206.83333333,\n",
       "        308.16666667,   -2.16666667])"
      ]
     },
     "execution_count": 64,
     "metadata": {},
     "output_type": "execute_result"
    }
   ],
   "source": [
    "np.median(rvmat,axis=0)"
   ]
  },
  {
   "cell_type": "code",
   "execution_count": 65,
   "id": "05a3a164",
   "metadata": {
    "execution": {
     "iopub.execute_input": "2024-07-31T00:09:48.643534Z",
     "iopub.status.busy": "2024-07-31T00:09:48.642884Z",
     "iopub.status.idle": "2024-07-31T00:09:48.727652Z",
     "shell.execute_reply": "2024-07-31T00:09:48.727143Z",
     "shell.execute_reply.started": "2024-07-31T00:09:48.643484Z"
    }
   },
   "outputs": [
    {
     "name": "stdout",
     "output_type": "stream",
     "text": [
      "['r.FEROS.2006-05-16T00:37:52.771.3081_all_orders.dat', 'r.FEROS.2005-11-14T08:58:16.850.3081_all_orders.dat', 'r.FEROS.2007-01-21T09:08:47.052.3081_all_orders.dat', 'r.FEROS.2010-02-27T04:06:55.145.3081_all_orders.dat', 'r.FEROS.2007-03-05T07:07:14.812.3081_all_orders.dat', 'r.FEROS.2005-04-03T05:26:30.602.3081_all_orders.dat']\n"
     ]
    },
    {
     "data": {
      "image/png": "[encoded data removed]",
      "text/plain": [
       "<Figure size 640x480 with 1 Axes>"
      ]
     },
     "metadata": {},
     "output_type": "display_data"
    }
   ],
   "source": [
    "for i in range(len(ind)):\n",
    "    plt.plot(rvmat_test[:,i],'.')\n",
    "#plt.plot(rvmat[:,1],'.')\n",
    "#plt.plot(rvmat[:,2],'.')\n",
    "#plt.plot(rvmat[:,3],'.')\n",
    "#plt.plot(rvmat[:,4],'.')\n",
    "#plt.plot(rvmat[:,5],'.')\n",
    "#plt.plot(rvmat[:,6],'.')\n",
    "\n",
    "#plt.ylim((-500,500))\n",
    "#plt.legend([46,47,45,44,48])\n",
    "print(ofiles)"
   ]
  },
  {
   "cell_type": "code",
   "execution_count": null,
   "id": "0842740e",
   "metadata": {},
   "outputs": [],
   "source": []
  },
  {
   "cell_type": "code",
   "execution_count": 66,
   "id": "30360cdd",
   "metadata": {
    "execution": {
     "iopub.execute_input": "2024-07-31T00:10:19.949916Z",
     "iopub.status.busy": "2024-07-31T00:10:19.949385Z",
     "iopub.status.idle": "2024-07-31T00:10:19.961737Z",
     "shell.execute_reply": "2024-07-31T00:10:19.961141Z",
     "shell.execute_reply.started": "2024-07-31T00:10:19.949875Z"
    }
   },
   "outputs": [
    {
     "name": "stdout",
     "output_type": "stream",
     "text": [
      "21.250308870768464\n",
      "23.23096857413789\n",
      "\n",
      "8.401284902396833\n",
      "12.184643115607635\n",
      "\n",
      "10.130961205831484\n",
      "9.426939583161973\n",
      "\n",
      "20.756115641215715\n",
      "22.728660944200055\n",
      "\n",
      "25.945144551519643\n",
      "27.29034353224095\n",
      "\n",
      "11.119347664936953\n",
      "19.674619266325177\n",
      "\n"
     ]
    }
   ],
   "source": [
    "from scipy.stats import median_abs_deviation as mad\n",
    "\n",
    "stdarr = np.zeros(nspec)\n",
    "## std of rvmat\n",
    "for i in range(nspec):\n",
    "    stdarr[i] = mad(rvmatrix[:,i]/0.6745)\n",
    "    print(mad(rvmatrix[:,i])/0.6745)\n",
    "    print(np.std(rvmatrix[:,i]))\n",
    "    print()\n",
    "    #print(0.6745**2)"
   ]
  },
  {
   "cell_type": "code",
   "execution_count": 67,
   "id": "956dd049",
   "metadata": {
    "execution": {
     "iopub.execute_input": "2024-07-31T00:10:31.529187Z",
     "iopub.status.busy": "2024-07-31T00:10:31.528742Z",
     "iopub.status.idle": "2024-07-31T00:10:31.621030Z",
     "shell.execute_reply": "2024-07-31T00:10:31.620770Z",
     "shell.execute_reply.started": "2024-07-31T00:10:31.529158Z"
    }
   },
   "outputs": [
    {
     "data": {
      "image/png": "[encoded data removed]",
      "text/plain": [
       "<Figure size 640x480 with 1 Axes>"
      ]
     },
     "metadata": {},
     "output_type": "display_data"
    }
   ],
   "source": [
    "plt.errorbar(bmjd,rvarr,yerr=errarr,fmt='.')\n",
    "#stdarr = np.zeros(nspec)\n",
    "#plt.errorbar(bmjd,rvarr,yerr=errarr,fmt='.')\n",
    "#plt.errorbar(np.mod((jdarr+240000.5-2459339.037)/16.436,1),rvarr,yerr=errarr,fmt='.')\n",
    "#plt.errorbar(np.mod((jdarr2-2459339.037269)/16,1),rvarr,yerr=errarr,fmt='.')\n",
    "#plt.xlim([2458200,2458300])\n",
    "x = np.linspace(0, 1, 1000)  # 在[0,1]区间内生成1000个均匀间隔的点\n",
    "\n",
    "y = -100*np.sin(2 * np.pi * x) \n",
    "#plt.plot(x, y)\n"
   ]
  },
  {
   "cell_type": "code",
   "execution_count": 194,
   "id": "1381175c-214e-40b3-9c98-66d1a8df10e5",
   "metadata": {
    "execution": {
     "iopub.execute_input": "2024-07-22T08:22:24.786142Z",
     "iopub.status.busy": "2024-07-22T08:22:24.785311Z",
     "iopub.status.idle": "2024-07-22T08:22:24.793830Z",
     "shell.execute_reply": "2024-07-22T08:22:24.793030Z",
     "shell.execute_reply.started": "2024-07-22T08:22:24.786090Z"
    }
   },
   "outputs": [
    {
     "data": {
      "text/plain": [
       "array([58225.26931256, 58226.26356286, 58227.25878406, 58228.27372636,\n",
       "       58229.27899436, 58230.23242537, 58231.23641598, 58232.33478888,\n",
       "       58233.22657553, 58235.01793129, 58235.19902368, 58236.25616296,\n",
       "       58237.32502073, 58238.15852023, 58238.29627494, 58616.22888577,\n",
       "       58619.2911333 , 58620.11963692, 58622.0813847 ])"
      ]
     },
     "execution_count": 194,
     "metadata": {},
     "output_type": "execute_result"
    }
   ],
   "source": [
    "jdarr"
   ]
  },
  {
   "cell_type": "code",
   "execution_count": 195,
   "id": "907efa52",
   "metadata": {
    "execution": {
     "iopub.execute_input": "2024-07-22T08:22:27.704699Z",
     "iopub.status.busy": "2024-07-22T08:22:27.704198Z",
     "iopub.status.idle": "2024-07-22T08:22:27.708453Z",
     "shell.execute_reply": "2024-07-22T08:22:27.707481Z",
     "shell.execute_reply.started": "2024-07-22T08:22:27.704667Z"
    }
   },
   "outputs": [],
   "source": [
    "#np.savez('wasp189rv-sorted.npz',jdarr=jdarr,rvarr=rvarr,errarr=errarr,stdarr=stdarr,wijarr=wijarr,rvmatrix=rvmatrix)"
   ]
  },
  {
   "cell_type": "code",
   "execution_count": 196,
   "id": "0d2f4f93",
   "metadata": {
    "execution": {
     "iopub.execute_input": "2024-07-22T08:22:30.332158Z",
     "iopub.status.busy": "2024-07-22T08:22:30.331459Z",
     "iopub.status.idle": "2024-07-22T08:22:30.394413Z",
     "shell.execute_reply": "2024-07-22T08:22:30.394118Z",
     "shell.execute_reply.started": "2024-07-22T08:22:30.332104Z"
    }
   },
   "outputs": [
    {
     "name": "stdout",
     "output_type": "stream",
     "text": [
      "2019-05-16\n",
      "2018-04-30\n",
      "2018-04-17\n",
      "2018-04-22\n",
      "2018-04-18\n",
      "2019-05-13\n",
      "2018-04-24\n",
      "2018-04-21\n",
      "2018-04-19\n",
      "2019-05-19\n",
      "2018-04-23\n",
      "2018-04-20\n",
      "2018-04-29\n",
      "2018-04-27\n",
      "2018-04-28\n",
      "2018-04-27\n",
      "2019-05-17\n",
      "2018-04-25\n",
      "2018-04-30\n"
     ]
    }
   ],
   "source": [
    "for i in range(nspec):\n",
    "    hdu = fits.open(fitsdir+fitsfiles[i])\n",
    "    header = hdu[0].header\n",
    "    print(header['DATE-OBS'])"
   ]
  },
  {
   "cell_type": "markdown",
   "id": "6f728850",
   "metadata": {},
   "source": [
    "So it does look like the last two data points are the in-transit ones.\n",
    "\n",
    "But the JDs don't look right...\\\n",
    "Start - mid - end:\\\n",
    "10073.2685\\\n",
    "10073.3587\\\n",
    "10073.4489\n",
    "\n",
    "https://astro.swarthmore.edu/transits/print_transits.cgi?single_object=0&ra=&dec=&epoch=&period=&duration=&depth=&target=&observatory_string=40.393333%3B-242.425%3BAsia%2FShanghai%3BBeijing+XingLong+Observatory%2C+China&use_utc=0&observatory_latitude=40.393333&observatory_longitude=-242.425&timezone=Asia%2FShanghai&start_date=05-08-2023&days_to_print=1&days_in_past=0&minimum_start_elevation=30&and_vs_or=or&minimum_end_elevation=30&minimum_ha=-12&maximum_ha=12&baseline_hrs=1&show_unc=1&minimum_depth=0&maximum_V_mag=7&target_string=WASP-189&print_html=1&twilight=-12&max_airmass=2.4"
   ]
  },
  {
   "cell_type": "code",
   "execution_count": 197,
   "id": "10596287",
   "metadata": {
    "execution": {
     "iopub.execute_input": "2024-07-22T08:22:31.635824Z",
     "iopub.status.busy": "2024-07-22T08:22:31.635360Z",
     "iopub.status.idle": "2024-07-22T08:22:31.690854Z",
     "shell.execute_reply": "2024-07-22T08:22:31.690584Z",
     "shell.execute_reply.started": "2024-07-22T08:22:31.635793Z"
    }
   },
   "outputs": [
    {
     "name": "stdout",
     "output_type": "stream",
     "text": [
      "2019-05-16\n",
      "2018-04-30\n",
      "2018-04-17\n",
      "2018-04-22\n",
      "2018-04-18\n",
      "2019-05-13\n",
      "2018-04-24\n",
      "2018-04-21\n",
      "2018-04-19\n",
      "2019-05-19\n",
      "2018-04-23\n",
      "2018-04-20\n",
      "2018-04-29\n",
      "2018-04-27\n",
      "2018-04-28\n",
      "2018-04-27\n",
      "2019-05-17\n",
      "2018-04-25\n",
      "2018-04-30\n"
     ]
    },
    {
     "data": {
      "text/plain": [
       "array([2458225.17135417, 2458226.17135417, 2458227.17135417,\n",
       "       2458228.17135417, 2458229.17135417, 2458230.17135417,\n",
       "       2458231.17135417, 2458232.17135417, 2458233.17135417,\n",
       "       2458235.17135417, 2458235.17135417, 2458236.17135417,\n",
       "       2458237.17135417, 2458238.17135417, 2458238.17135417,\n",
       "       2458616.17135417, 2458619.17135417, 2458620.17135417,\n",
       "       2458622.17135417])"
      ]
     },
     "execution_count": 197,
     "metadata": {},
     "output_type": "execute_result"
    }
   ],
   "source": [
    "jdarr2 = np.zeros(nspec)\n",
    "for i in range(nspec):\n",
    "    hdu = fits.open(fitsdir+fitsfiles[i])\n",
    "    header = hdu[0].header\n",
    "    ut_time = header['DATE-OBS']\n",
    "    print(ut_time)\n",
    "    # Create a Time object with the UT time and format\n",
    "    time = Time(ut_time, format='isot', scale='utc')\n",
    "\n",
    "    # Convert to JD (Julian Date)\n",
    "    jdarr2[i] = time.jd - 8.0/24.0 + 405.0/3600./24.0 # UTC is 8 hours behind Beijing time, plus 1800s exposure time\n",
    "\n",
    "jdarr2 = np.sort(jdarr2)\n",
    "jdarr2"
   ]
  },
  {
   "cell_type": "code",
   "execution_count": 419,
   "id": "e4e143e9",
   "metadata": {
    "execution": {
     "iopub.execute_input": "2024-07-15T17:12:21.112902Z",
     "iopub.status.busy": "2024-07-15T17:12:21.112483Z",
     "iopub.status.idle": "2024-07-15T17:12:21.134930Z",
     "shell.execute_reply": "2024-07-15T17:12:21.134265Z",
     "shell.execute_reply.started": "2024-07-15T17:12:21.112858Z"
    }
   },
   "outputs": [
    {
     "ename": "NameError",
     "evalue": "name 'delw' is not defined",
     "output_type": "error",
     "traceback": [
      "\u001b[0;31m---------------------------------------------------------------------------\u001b[0m",
      "\u001b[0;31mNameError\u001b[0m                                 Traceback (most recent call last)",
      "Cell \u001b[0;32mIn[419], line 1\u001b[0m\n\u001b[0;32m----> 1\u001b[0m \u001b[38;5;28mprint\u001b[39m(delw\u001b[38;5;241m/\u001b[39m\u001b[38;5;241m5500.0\u001b[39m\u001b[38;5;241m*\u001b[39mc)\n",
      "\u001b[0;31mNameError\u001b[0m: name 'delw' is not defined"
     ]
    }
   ],
   "source": [
    "print(delw/5500.0*c)"
   ]
  },
  {
   "cell_type": "code",
   "execution_count": 51,
   "id": "f5c1e044",
   "metadata": {
    "execution": {
     "iopub.execute_input": "2024-07-12T07:18:31.523639Z",
     "iopub.status.busy": "2024-07-12T07:18:31.523248Z",
     "iopub.status.idle": "2024-07-12T07:18:31.528791Z",
     "shell.execute_reply": "2024-07-12T07:18:31.527839Z",
     "shell.execute_reply.started": "2024-07-12T07:18:31.523617Z"
    }
   },
   "outputs": [],
   "source": [
    "np.savez('wasp189rv-sorted-newjd.npz',jdarr=jdarr2,rvarr=rvarr,errarr=errarr,stdarr=stdarr,wijarr=wijarr,rvmatrix=rvmatrix)"
   ]
  },
  {
   "cell_type": "code",
   "execution_count": null,
   "id": "d029a321",
   "metadata": {},
   "outputs": [],
   "source": []
  }
 ],
 "metadata": {
  "kernelspec": {
   "display_name": "Python 3 (ipykernel)",
   "language": "python",
   "name": "python3"
  },
  "language_info": {
   "codemirror_mode": {
    "name": "ipython",
    "version": 3
   },
   "file_extension": ".py",
   "mimetype": "text/x-python",
   "name": "python",
   "nbconvert_exporter": "python",
   "pygments_lexer": "ipython3",
   "version": "3.11.9"
  }
 },
 "nbformat": 4,
 "nbformat_minor": 5
}
